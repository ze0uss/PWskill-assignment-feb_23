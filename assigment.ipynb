{
 "cells": [
  {
   "cell_type": "code",
   "execution_count": 5,
   "metadata": {},
   "outputs": [],
   "source": [
    " Q1. Create a Pandas Series that contains the following data: 4, 8, 15, 16, 23, and 42. Then, print the series."
   ]
  },
  {
   "cell_type": "code",
   "execution_count": 17,
   "metadata": {},
   "outputs": [
    {
     "data": {
      "text/plain": [
       "0     4\n",
       "1     8\n",
       "2    15\n",
       "3    16\n",
       "4    23\n",
       "5    42\n",
       "dtype: int64"
      ]
     },
     "execution_count": 17,
     "metadata": {},
     "output_type": "execute_result"
    }
   ],
   "source": [
    "import pandas as pd\n",
    "data = [4,8,15,16,23,42]\n",
    "series = pd.Series(data)\n",
    "series"
   ]
  },
  {
   "cell_type": "code",
   "execution_count": 8,
   "metadata": {},
   "outputs": [],
   "source": [
    " Q2. Create a variable of list type containing 10 elements in it, and apply pandas.Series function on the\n",
    " variable print it."
   ]
  },
  {
   "cell_type": "code",
   "execution_count": 11,
   "metadata": {},
   "outputs": [
    {
     "name": "stdout",
     "output_type": "stream",
     "text": [
      "0     1\n",
      "1     2\n",
      "2     3\n",
      "3     4\n",
      "4     5\n",
      "5     6\n",
      "6     7\n",
      "7     8\n",
      "8     9\n",
      "9    10\n",
      "dtype: int64\n"
     ]
    }
   ],
   "source": [
    "list = [1,2,3,4,5,6,7,8,9,10]\n",
    "series = pd.Series(list)\n",
    "print(series)"
   ]
  },
  {
   "cell_type": "code",
   "execution_count": null,
   "metadata": {},
   "outputs": [],
   "source": [
    " Q3. Create a Pandas DataFrame that contains the following data:"
   ]
  },
  {
   "cell_type": "code",
   "execution_count": 14,
   "metadata": {},
   "outputs": [
    {
     "name": "stdout",
     "output_type": "stream",
     "text": [
      "     Name  Age  Gander\n",
      "0   Alice   25  Female\n",
      "1     Bob   30    Male\n",
      "2  claire   27  Female\n"
     ]
    }
   ],
   "source": [
    "df = pd.DataFrame({ 'Name':['Alice','Bob','claire'] , 'Age':[25,30,27] ,'Gander':['Female','Male','Female']})\n",
    "print(df)"
   ]
  },
  {
   "cell_type": "code",
   "execution_count": 15,
   "metadata": {},
   "outputs": [],
   "source": [
    "Q4. What is ‘DataFrame’ in pandas and how is it different from pandas.series? Explain with an example.\n"
   ]
  },
  {
   "cell_type": "code",
   "execution_count": 16,
   "metadata": {},
   "outputs": [],
   "source": [
    " A DataFrame in Pandas is a two-dimensional labeled data structure with columns of potentially different types. It is similar to a spreadsheet or a SQL table, where each column can have a different type (e.g., numeric, string, boolean), and rows are labeled with an index. A DataFrame can be thought of as a collection of Series objects, where each Series represents a column in the DataFrame.\n",
    "\n",
    " The main difference between a Series and a DataFrame is that a Series represents a single column of data, while a DataFrame represents multiple columns of data, arranged in a tabular format.\n",
    "\n",
    "Here's an example to illustrate the difference between a Series and a DataFrame:"
   ]
  },
  {
   "cell_type": "code",
   "execution_count": 27,
   "metadata": {},
   "outputs": [
    {
     "name": "stdout",
     "output_type": "stream",
     "text": [
      "0    1\n",
      "1    2\n",
      "2    3\n",
      "3    4\n",
      "4    5\n",
      "dtype: int64\n",
      "     Name  Age  Gander\n",
      "0   Alice   25  Female\n",
      "1     Bob   30    Male\n",
      "2  claire   27  Female\n"
     ]
    }
   ],
   "source": [
    "series = pd.Series([1,2,3,4,5])\n",
    "\n",
    "df = pd.DataFrame({'Name':['Alice','Bob','claire'] ,'Age':[25,30,27] ,'Gander':['Female','Male','Female']})\n",
    "\n",
    "\n",
    "\n",
    "print( series)\n",
    "\n",
    "print(df)"
   ]
  },
  {
   "cell_type": "code",
   "execution_count": null,
   "metadata": {},
   "outputs": [],
   "source": [
    " Q5. What are some common functions you can use to manipulate data in a Pandas DataFrame? \n",
    " Can you give an example of when you might use one of these functions?\n"
   ]
  },
  {
   "cell_type": "code",
   "execution_count": null,
   "metadata": {},
   "outputs": [],
   "source": [
    " Pandas provides a wide range of functions that can be used to manipulate data in a DataFrame. Some common functions include:\n",
    "\n",
    " head() and tail(): to view the first or last n rows of a DataFrame describe():\n",
    "  to view the statistical summary of the DataFrame shape:\n",
    "  to view the number of rows and columns in the DataFrame drop():\n",
    "  to remove rows or columns from the DataFrame groupby():\n",
    "  to group rows based on a column and apply a function to each group sort_values(): \n",
    " to sort the DataFrame by one or more columns fillna():\n",
    "  to fill missing values in the DataFrame with a specified value or method apply(): \n",
    " to apply a function to each element of a DataFrame or a Series merge():\n",
    "  to join two or more DataFrames based on a common column or index Here's an example of when you might use one of these functions. \n",
    " Suppose you have a DataFrame containing information about employees in a company, and you want to view the statistical summary of their salaries:"
   ]
  },
  {
   "cell_type": "code",
   "execution_count": 33,
   "metadata": {},
   "outputs": [
    {
     "name": "stdout",
     "output_type": "stream",
     "text": [
      "count         3.000000\n",
      "mean      70000.000000\n",
      "std       26457.513111\n",
      "min       50000.000000\n",
      "25%       55000.000000\n",
      "50%       60000.000000\n",
      "75%       80000.000000\n",
      "max      100000.000000\n",
      "Name: Sallery, dtype: float64\n"
     ]
    }
   ],
   "source": [
    "employee_data = { 'Name':['ram','shyam','mohan'],\n",
    "                'Age' :[25,29,28],\n",
    "                'Sallery':[50000,100000,60000]\n",
    "}\n",
    "\n",
    "df = pd.DataFrame(employee_data)\n",
    "\n",
    "print(df['Sallery'].describe())"
   ]
  },
  {
   "cell_type": "code",
   "execution_count": null,
   "metadata": {},
   "outputs": [],
   "source": [
    " Q6. Which of the following is mutable in nature Series, DataFrame, Panel?\n"
   ]
  },
  {
   "cell_type": "code",
   "execution_count": null,
   "metadata": {},
   "outputs": [],
   "source": [
    " Among the three data structures provided by Pandas, only the DataFrame and Panel are mutable in nature.\n",
    "\n",
    " A DataFrame is mutable because you can add, remove or modify columns and rows. Similarly, a Panel is mutable because \n",
    " you can add or remove items along the axis.\n",
    "\n",
    " On the other hand, a Series is immutable because it represents a single column of data with an index. \n",
    " Once created, you cannot add or remove elements from a Series. However, you can modify the values of existing elements in a Series."
   ]
  },
  {
   "cell_type": "code",
   "execution_count": null,
   "metadata": {},
   "outputs": [],
   "source": [
    "Q7. Create a DataFrame using multiple Series. Explain with an example."
   ]
  },
  {
   "cell_type": "code",
   "execution_count": 34,
   "metadata": {},
   "outputs": [
    {
     "name": "stdout",
     "output_type": "stream",
     "text": [
      "    Name   Age  Sallery\n",
      "0    ram  21.0   500000\n",
      "1  mohan  23.0   230000\n",
      "2    bob  25.0   440000\n",
      "3  steav  28.0   540000\n",
      "4   zeus  26.0    90000\n",
      "5   mark   NaN   858000\n"
     ]
    }
   ],
   "source": [
    "name = pd.Series(['ram','mohan','bob','steav','zeus','mark'])\n",
    "age = pd.Series([21,23,25,28,26,])\n",
    "sallery = pd.Series([500000,230000,440000,540000,90000,858000])\n",
    "\n",
    "df = pd.DataFrame({'Name':name , 'Age':age, 'Sallery': sallery})\n",
    "\n",
    "print(df)"
   ]
  },
  {
   "cell_type": "code",
   "execution_count": null,
   "metadata": {},
   "outputs": [],
   "source": []
  }
 ],
 "metadata": {
  "kernelspec": {
   "display_name": "Python 3",
   "language": "python",
   "name": "python3"
  },
  "language_info": {
   "codemirror_mode": {
    "name": "ipython",
    "version": 3
   },
   "file_extension": ".py",
   "mimetype": "text/x-python",
   "name": "python",
   "nbconvert_exporter": "python",
   "pygments_lexer": "ipython3",
   "version": "3.11.0"
  },
  "orig_nbformat": 4
 },
 "nbformat": 4,
 "nbformat_minor": 2
}
